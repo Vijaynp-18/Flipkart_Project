{
 "cells": [
  {
   "cell_type": "markdown",
   "id": "8c78dc43-ea31-4078-bf50-59d82b2c3184",
   "metadata": {},
   "source": [
    "# Web Scrapping and Data Cleaning"
   ]
  },
  {
   "cell_type": "markdown",
   "id": "a12058f3-a491-49f3-bf86-75bcc203a381",
   "metadata": {},
   "source": [
    "# Scrapping"
   ]
  },
  {
   "cell_type": "markdown",
   "id": "79c303ee-3d00-438d-a4d8-7f3fbbb57d16",
   "metadata": {},
   "source": [
    "## Requried Libraries for Scrapping"
   ]
  },
  {
   "cell_type": "code",
   "execution_count": 1,
   "id": "d02a122d-2b93-4635-b2fa-a2253262cad3",
   "metadata": {},
   "outputs": [],
   "source": [
    "import pandas as pd\n",
    "import requests\n",
    "from bs4 import BeautifulSoup"
   ]
  },
  {
   "cell_type": "markdown",
   "id": "b4bc6f0a-c3db-47af-907b-c747670b1ce2",
   "metadata": {},
   "source": [
    "## Scrapping data from Flipkart"
   ]
  },
  {
   "cell_type": "code",
   "execution_count": 13,
   "id": "52a7eee1-b55f-47ff-889a-2b3144a51366",
   "metadata": {},
   "outputs": [
    {
     "name": "stdin",
     "output_type": "stream",
     "text": [
      "Enter number of pages : 25\n"
     ]
    },
    {
     "name": "stdout",
     "output_type": "stream",
     "text": [
      "Phone in page 1\n",
      "24\n",
      "Phone in page 2\n",
      "24\n",
      "Phone in page 3\n",
      "24\n",
      "Phone in page 4\n",
      "24\n",
      "Phone in page 5\n",
      "24\n",
      "Phone in page 6\n",
      "24\n",
      "Phone in page 7\n",
      "24\n",
      "Phone in page 8\n",
      "24\n",
      "Phone in page 9\n",
      "24\n",
      "Phone in page 10\n",
      "24\n",
      "Phone in page 11\n",
      "24\n",
      "Phone in page 12\n",
      "24\n",
      "Phone in page 13\n",
      "24\n",
      "Phone in page 14\n",
      "24\n",
      "Phone in page 15\n",
      "24\n",
      "Phone in page 16\n",
      "24\n",
      "Phone in page 17\n",
      "24\n",
      "Phone in page 18\n",
      "24\n",
      "Phone in page 19\n",
      "24\n",
      "Phone in page 20\n",
      "24\n",
      "Phone in page 21\n",
      "24\n",
      "Phone in page 22\n",
      "24\n",
      "Phone in page 23\n",
      "24\n",
      "Phone in page 24\n",
      "24\n",
      "Phone in page 25\n",
      "24\n"
     ]
    }
   ],
   "source": [
    "Phone_name = []\n",
    "Price = []\n",
    "Discount = []\n",
    "Ratings = []\n",
    "Description = []\n",
    "\n",
    "page_num = int(input(\"Enter number of pages :\"))\n",
    "for i in range(1, int(page_num)+1):\n",
    "    url = \"https://www.flipkart.com/search?q=mobile&sid=tyy%2C4io&as=on&as-show=on&otracker=AS_QueryStore_OrganicAutoSuggest_2_3_na_na_na&otracker1=AS_QueryStore_OrganicAutoSuggest_2_3_na_na_na&as-pos=2&as-type=RECENT&suggestionId=mobile%7CMobiles&requestId=553a951a-5abd-4cf7-99e5-c08542285669&as-searchtext=mobile&p%5B%5D=facets.rating%255B%255D%3D3%25E2%2598%2585%2B%2526%2Babove&p%5B%5D=facets.discount_range_v1%255B%255D%3D10%2525%2Bor%2Bmore&page=\"+str(i)\n",
    "    req = requests.get(url)\n",
    "    content = BeautifulSoup(req.content, 'html.parser')\n",
    "    box = content.find(\"div\", class_ = \"DOjaWF gdgoEp\")\n",
    "    name = box.find_all(\"div\", class_ = \"KzDlHZ\")\n",
    "    price = box.find_all(\"div\", class_ = \"Nx9bqj _4b5DiR\")\n",
    "    description = box.find_all(\"ul\", class_ = \"G4BRas\")\n",
    "    discount = box.find_all(\"div\", class_ = \"UkUFwK\")\n",
    "    rating = box.find_all(\"div\", class_ = \"XQDdHH\")\n",
    "    print(\"Phone in page \" +str(i))\n",
    "    print(len(name))\n",
    "\n",
    "    for i in name:\n",
    "        Phone_name.append(i.text)\n",
    "    for i in price:\n",
    "        Price.append(i.text)\n",
    "    for i in description:\n",
    "        Description.append(i.text)\n",
    "    for i in discount:\n",
    "        Discount.append(i.text)\n",
    "    for i in rating:\n",
    "        Ratings.append(i.text)"
   ]
  },
  {
   "cell_type": "markdown",
   "id": "d8636789-7332-4ef9-987c-cee229ba732a",
   "metadata": {},
   "source": [
    "## Adding the scrapped data to Pandas DataFrame"
   ]
  },
  {
   "cell_type": "code",
   "execution_count": 15,
   "id": "0f62ebc9-1c14-4a44-8519-72772e5f0502",
   "metadata": {},
   "outputs": [],
   "source": [
    "df = pd.DataFrame({\"Name\" : Phone_name,\n",
    "                   \"Price\" : Price,\n",
    "                   \"Description\" : Description,\n",
    "                   \"Discount\" : Discount,\n",
    "                   \"Ratings\" : Ratings\n",
    "                  })"
   ]
  },
  {
   "cell_type": "code",
   "execution_count": 17,
   "id": "3aeb3cca-a095-484a-af47-9342b22745b6",
   "metadata": {},
   "outputs": [
    {
     "data": {
      "text/html": [
       "<div>\n",
       "<style scoped>\n",
       "    .dataframe tbody tr th:only-of-type {\n",
       "        vertical-align: middle;\n",
       "    }\n",
       "\n",
       "    .dataframe tbody tr th {\n",
       "        vertical-align: top;\n",
       "    }\n",
       "\n",
       "    .dataframe thead th {\n",
       "        text-align: right;\n",
       "    }\n",
       "</style>\n",
       "<table border=\"1\" class=\"dataframe\">\n",
       "  <thead>\n",
       "    <tr style=\"text-align: right;\">\n",
       "      <th></th>\n",
       "      <th>Name</th>\n",
       "      <th>Price</th>\n",
       "      <th>Description</th>\n",
       "      <th>Discount</th>\n",
       "      <th>Ratings</th>\n",
       "    </tr>\n",
       "  </thead>\n",
       "  <tbody>\n",
       "    <tr>\n",
       "      <th>0</th>\n",
       "      <td>SAMSUNG Galaxy F16 5G (Glam Green, 128 GB)</td>\n",
       "      <td>₹14,499</td>\n",
       "      <td>8 GB RAM | 128 GB ROM16.91 cm (6.657 inch) Ful...</td>\n",
       "      <td>23% off</td>\n",
       "      <td>4.3</td>\n",
       "    </tr>\n",
       "    <tr>\n",
       "      <th>1</th>\n",
       "      <td>SAMSUNG Glaxy F06 5G (Lit Violet, 128 GB)</td>\n",
       "      <td>₹9,199</td>\n",
       "      <td>4 GB RAM | 128 GB ROM | Expandable Upto 1500 G...</td>\n",
       "      <td>34% off</td>\n",
       "      <td>4.3</td>\n",
       "    </tr>\n",
       "    <tr>\n",
       "      <th>2</th>\n",
       "      <td>REDMI A3X (Ocean Green, 64 GB)</td>\n",
       "      <td>₹6,199</td>\n",
       "      <td>3 GB RAM | 64 GB ROM | Expandable Upto 1 TB17....</td>\n",
       "      <td>38% off</td>\n",
       "      <td>4.1</td>\n",
       "    </tr>\n",
       "    <tr>\n",
       "      <th>3</th>\n",
       "      <td>POCO C61 (Diamond Dust Black, 64 GB)</td>\n",
       "      <td>₹5,699</td>\n",
       "      <td>4 GB RAM | 64 GB ROM | Expandable Upto 1 TB17....</td>\n",
       "      <td>36% off</td>\n",
       "      <td>4.2</td>\n",
       "    </tr>\n",
       "    <tr>\n",
       "      <th>4</th>\n",
       "      <td>Nothing Phone (3a) (Black, 128 GB)</td>\n",
       "      <td>₹24,999</td>\n",
       "      <td>8 GB RAM | 128 GB ROM17.2 cm (6.77 inch) Full ...</td>\n",
       "      <td>10% off</td>\n",
       "      <td>4.5</td>\n",
       "    </tr>\n",
       "    <tr>\n",
       "      <th>...</th>\n",
       "      <td>...</td>\n",
       "      <td>...</td>\n",
       "      <td>...</td>\n",
       "      <td>...</td>\n",
       "      <td>...</td>\n",
       "    </tr>\n",
       "    <tr>\n",
       "      <th>595</th>\n",
       "      <td>SAMSUNG Galaxy A36 5G (Awesome White, 256 GB)</td>\n",
       "      <td>₹32,999</td>\n",
       "      <td>8 GB RAM | 256 GB ROM17.02 cm (6.7 inch) Full ...</td>\n",
       "      <td>15% off</td>\n",
       "      <td>4.4</td>\n",
       "    </tr>\n",
       "    <tr>\n",
       "      <th>596</th>\n",
       "      <td>SAMSUNG Galaxy F16 5G (Glam Green, 128 GB)</td>\n",
       "      <td>₹11,499</td>\n",
       "      <td>4 GB RAM | 128 GB ROM16.91 cm (6.657 inch) Ful...</td>\n",
       "      <td>28% off</td>\n",
       "      <td>4.2</td>\n",
       "    </tr>\n",
       "    <tr>\n",
       "      <th>597</th>\n",
       "      <td>SAMSUNG Galaxy F06 5G (Lit Violet, 128 GB)</td>\n",
       "      <td>₹10,699</td>\n",
       "      <td>6 GB RAM | 128 GB ROM | Expandable Upto 1500 G...</td>\n",
       "      <td>30% off</td>\n",
       "      <td>4.1</td>\n",
       "    </tr>\n",
       "    <tr>\n",
       "      <th>598</th>\n",
       "      <td>Snexian Bold V1</td>\n",
       "      <td>₹2,297</td>\n",
       "      <td>32 MB RAM | 32 MB ROM | Expandable Upto 16 GB4...</td>\n",
       "      <td>23% off</td>\n",
       "      <td>4.2</td>\n",
       "    </tr>\n",
       "    <tr>\n",
       "      <th>599</th>\n",
       "      <td>POCO F6 5G (Black, 256 GB)</td>\n",
       "      <td>₹22,999</td>\n",
       "      <td>8 GB RAM | 256 GB ROM16.94 cm (6.67 inch) Disp...</td>\n",
       "      <td>32% off</td>\n",
       "      <td>4.3</td>\n",
       "    </tr>\n",
       "  </tbody>\n",
       "</table>\n",
       "<p>600 rows × 5 columns</p>\n",
       "</div>"
      ],
      "text/plain": [
       "                                              Name    Price  \\\n",
       "0       SAMSUNG Galaxy F16 5G (Glam Green, 128 GB)  ₹14,499   \n",
       "1        SAMSUNG Glaxy F06 5G (Lit Violet, 128 GB)   ₹9,199   \n",
       "2                   REDMI A3X (Ocean Green, 64 GB)   ₹6,199   \n",
       "3             POCO C61 (Diamond Dust Black, 64 GB)   ₹5,699   \n",
       "4               Nothing Phone (3a) (Black, 128 GB)  ₹24,999   \n",
       "..                                             ...      ...   \n",
       "595  SAMSUNG Galaxy A36 5G (Awesome White, 256 GB)  ₹32,999   \n",
       "596     SAMSUNG Galaxy F16 5G (Glam Green, 128 GB)  ₹11,499   \n",
       "597     SAMSUNG Galaxy F06 5G (Lit Violet, 128 GB)  ₹10,699   \n",
       "598                                Snexian Bold V1   ₹2,297   \n",
       "599                     POCO F6 5G (Black, 256 GB)  ₹22,999   \n",
       "\n",
       "                                           Description Discount Ratings  \n",
       "0    8 GB RAM | 128 GB ROM16.91 cm (6.657 inch) Ful...  23% off     4.3  \n",
       "1    4 GB RAM | 128 GB ROM | Expandable Upto 1500 G...  34% off     4.3  \n",
       "2    3 GB RAM | 64 GB ROM | Expandable Upto 1 TB17....  38% off     4.1  \n",
       "3    4 GB RAM | 64 GB ROM | Expandable Upto 1 TB17....  36% off     4.2  \n",
       "4    8 GB RAM | 128 GB ROM17.2 cm (6.77 inch) Full ...  10% off     4.5  \n",
       "..                                                 ...      ...     ...  \n",
       "595  8 GB RAM | 256 GB ROM17.02 cm (6.7 inch) Full ...  15% off     4.4  \n",
       "596  4 GB RAM | 128 GB ROM16.91 cm (6.657 inch) Ful...  28% off     4.2  \n",
       "597  6 GB RAM | 128 GB ROM | Expandable Upto 1500 G...  30% off     4.1  \n",
       "598  32 MB RAM | 32 MB ROM | Expandable Upto 16 GB4...  23% off     4.2  \n",
       "599  8 GB RAM | 256 GB ROM16.94 cm (6.67 inch) Disp...  32% off     4.3  \n",
       "\n",
       "[600 rows x 5 columns]"
      ]
     },
     "execution_count": 17,
     "metadata": {},
     "output_type": "execute_result"
    }
   ],
   "source": [
    "df"
   ]
  },
  {
   "cell_type": "markdown",
   "id": "32bba545-e9ae-4e49-8d9c-4c566ff7dc2f",
   "metadata": {},
   "source": [
    "## Saving as csv file in a particular location"
   ]
  },
  {
   "cell_type": "code",
   "execution_count": 19,
   "id": "d73a21ef-3fa7-4b16-bf5d-6f3faa7ffb88",
   "metadata": {},
   "outputs": [],
   "source": [
    "df.to_csv(\"C:/Users/vijay/OneDrive/Documents/Carrer prep plan/Flipkart Project/Flipkart_Scrapping.csv\")"
   ]
  },
  {
   "cell_type": "markdown",
   "id": "108bab13-48d1-4d31-a0b2-98b93cd53897",
   "metadata": {},
   "source": [
    "## Saving as csv file "
   ]
  },
  {
   "cell_type": "code",
   "execution_count": 21,
   "id": "eb1f1a92-4cfe-4b4e-8880-aba65070e1f8",
   "metadata": {},
   "outputs": [],
   "source": [
    "df.to_csv(\"Flipkart_Scrapping.csv\")"
   ]
  },
  {
   "cell_type": "markdown",
   "id": "a963164e-b4d5-48bb-bcd9-98b45466dd8b",
   "metadata": {},
   "source": [
    "# Data Cleaning"
   ]
  },
  {
   "cell_type": "markdown",
   "id": "89945c5a-f681-4678-b648-7a5867fbc0b7",
   "metadata": {},
   "source": [
    "### Importing necessory libraries"
   ]
  },
  {
   "cell_type": "code",
   "execution_count": 23,
   "id": "463a2e98-8a54-44da-b6ce-90d9eb8019a8",
   "metadata": {},
   "outputs": [],
   "source": [
    "import pandas as pd\n",
    "import numpy as np"
   ]
  },
  {
   "cell_type": "markdown",
   "id": "360ee9de-200f-4ebd-97c2-b6f874e795e7",
   "metadata": {},
   "source": [
    "### Reading the csv file"
   ]
  },
  {
   "cell_type": "code",
   "execution_count": 25,
   "id": "160d8f4a-96e5-4450-8dc5-49191890ad85",
   "metadata": {},
   "outputs": [
    {
     "data": {
      "text/html": [
       "<div>\n",
       "<style scoped>\n",
       "    .dataframe tbody tr th:only-of-type {\n",
       "        vertical-align: middle;\n",
       "    }\n",
       "\n",
       "    .dataframe tbody tr th {\n",
       "        vertical-align: top;\n",
       "    }\n",
       "\n",
       "    .dataframe thead th {\n",
       "        text-align: right;\n",
       "    }\n",
       "</style>\n",
       "<table border=\"1\" class=\"dataframe\">\n",
       "  <thead>\n",
       "    <tr style=\"text-align: right;\">\n",
       "      <th></th>\n",
       "      <th>Unnamed: 0</th>\n",
       "      <th>Name</th>\n",
       "      <th>Price</th>\n",
       "      <th>Description</th>\n",
       "      <th>Discount</th>\n",
       "      <th>Ratings</th>\n",
       "    </tr>\n",
       "  </thead>\n",
       "  <tbody>\n",
       "    <tr>\n",
       "      <th>0</th>\n",
       "      <td>0</td>\n",
       "      <td>SAMSUNG Galaxy F16 5G (Glam Green, 128 GB)</td>\n",
       "      <td>₹14,499</td>\n",
       "      <td>8 GB RAM | 128 GB ROM16.91 cm (6.657 inch) Ful...</td>\n",
       "      <td>23% off</td>\n",
       "      <td>4.3</td>\n",
       "    </tr>\n",
       "    <tr>\n",
       "      <th>1</th>\n",
       "      <td>1</td>\n",
       "      <td>SAMSUNG Glaxy F06 5G (Lit Violet, 128 GB)</td>\n",
       "      <td>₹9,199</td>\n",
       "      <td>4 GB RAM | 128 GB ROM | Expandable Upto 1500 G...</td>\n",
       "      <td>34% off</td>\n",
       "      <td>4.3</td>\n",
       "    </tr>\n",
       "    <tr>\n",
       "      <th>2</th>\n",
       "      <td>2</td>\n",
       "      <td>REDMI A3X (Ocean Green, 64 GB)</td>\n",
       "      <td>₹6,199</td>\n",
       "      <td>3 GB RAM | 64 GB ROM | Expandable Upto 1 TB17....</td>\n",
       "      <td>38% off</td>\n",
       "      <td>4.1</td>\n",
       "    </tr>\n",
       "    <tr>\n",
       "      <th>3</th>\n",
       "      <td>3</td>\n",
       "      <td>POCO C61 (Diamond Dust Black, 64 GB)</td>\n",
       "      <td>₹5,699</td>\n",
       "      <td>4 GB RAM | 64 GB ROM | Expandable Upto 1 TB17....</td>\n",
       "      <td>36% off</td>\n",
       "      <td>4.2</td>\n",
       "    </tr>\n",
       "    <tr>\n",
       "      <th>4</th>\n",
       "      <td>4</td>\n",
       "      <td>Nothing Phone (3a) (Black, 128 GB)</td>\n",
       "      <td>₹24,999</td>\n",
       "      <td>8 GB RAM | 128 GB ROM17.2 cm (6.77 inch) Full ...</td>\n",
       "      <td>10% off</td>\n",
       "      <td>4.5</td>\n",
       "    </tr>\n",
       "    <tr>\n",
       "      <th>5</th>\n",
       "      <td>5</td>\n",
       "      <td>SAMSUNG Galaxy F16 5G (Vibing Blue, 128 GB)</td>\n",
       "      <td>₹12,999</td>\n",
       "      <td>6 GB RAM | 128 GB ROM16.91 cm (6.657 inch) Ful...</td>\n",
       "      <td>25% off</td>\n",
       "      <td>4.2</td>\n",
       "    </tr>\n",
       "    <tr>\n",
       "      <th>6</th>\n",
       "      <td>6</td>\n",
       "      <td>POCO C61  - Locked with Airtel Prepaid (Diamon...</td>\n",
       "      <td>₹5,399</td>\n",
       "      <td>4 GB RAM | 64 GB ROM | Expandable Upto 1 TB17....</td>\n",
       "      <td>40% off</td>\n",
       "      <td>4.2</td>\n",
       "    </tr>\n",
       "    <tr>\n",
       "      <th>7</th>\n",
       "      <td>7</td>\n",
       "      <td>Nokia 130 Music Dual Sim, Music Player, Wirele...</td>\n",
       "      <td>₹1,700</td>\n",
       "      <td>4 MB RAM | 4 MB ROM6.1 cm (2.4 inch) Display0M...</td>\n",
       "      <td>22% off</td>\n",
       "      <td>4.0</td>\n",
       "    </tr>\n",
       "    <tr>\n",
       "      <th>8</th>\n",
       "      <td>8</td>\n",
       "      <td>realme C61 (Marble Black, 64 GB)</td>\n",
       "      <td>₹7,699</td>\n",
       "      <td>4 GB RAM | 64 GB ROM | Expandable Upto 2 TB17....</td>\n",
       "      <td>14% off</td>\n",
       "      <td>4.3</td>\n",
       "    </tr>\n",
       "    <tr>\n",
       "      <th>9</th>\n",
       "      <td>9</td>\n",
       "      <td>POCO C61 (Ethereal Blue, 64 GB)</td>\n",
       "      <td>₹5,699</td>\n",
       "      <td>4 GB RAM | 64 GB ROM | Expandable Upto 1 TB17....</td>\n",
       "      <td>36% off</td>\n",
       "      <td>4.2</td>\n",
       "    </tr>\n",
       "  </tbody>\n",
       "</table>\n",
       "</div>"
      ],
      "text/plain": [
       "   Unnamed: 0                                               Name    Price  \\\n",
       "0           0         SAMSUNG Galaxy F16 5G (Glam Green, 128 GB)  ₹14,499   \n",
       "1           1          SAMSUNG Glaxy F06 5G (Lit Violet, 128 GB)   ₹9,199   \n",
       "2           2                     REDMI A3X (Ocean Green, 64 GB)   ₹6,199   \n",
       "3           3               POCO C61 (Diamond Dust Black, 64 GB)   ₹5,699   \n",
       "4           4                 Nothing Phone (3a) (Black, 128 GB)  ₹24,999   \n",
       "5           5        SAMSUNG Galaxy F16 5G (Vibing Blue, 128 GB)  ₹12,999   \n",
       "6           6  POCO C61  - Locked with Airtel Prepaid (Diamon...   ₹5,399   \n",
       "7           7  Nokia 130 Music Dual Sim, Music Player, Wirele...   ₹1,700   \n",
       "8           8                   realme C61 (Marble Black, 64 GB)   ₹7,699   \n",
       "9           9                    POCO C61 (Ethereal Blue, 64 GB)   ₹5,699   \n",
       "\n",
       "                                         Description Discount  Ratings  \n",
       "0  8 GB RAM | 128 GB ROM16.91 cm (6.657 inch) Ful...  23% off      4.3  \n",
       "1  4 GB RAM | 128 GB ROM | Expandable Upto 1500 G...  34% off      4.3  \n",
       "2  3 GB RAM | 64 GB ROM | Expandable Upto 1 TB17....  38% off      4.1  \n",
       "3  4 GB RAM | 64 GB ROM | Expandable Upto 1 TB17....  36% off      4.2  \n",
       "4  8 GB RAM | 128 GB ROM17.2 cm (6.77 inch) Full ...  10% off      4.5  \n",
       "5  6 GB RAM | 128 GB ROM16.91 cm (6.657 inch) Ful...  25% off      4.2  \n",
       "6  4 GB RAM | 64 GB ROM | Expandable Upto 1 TB17....  40% off      4.2  \n",
       "7  4 MB RAM | 4 MB ROM6.1 cm (2.4 inch) Display0M...  22% off      4.0  \n",
       "8  4 GB RAM | 64 GB ROM | Expandable Upto 2 TB17....  14% off      4.3  \n",
       "9  4 GB RAM | 64 GB ROM | Expandable Upto 1 TB17....  36% off      4.2  "
      ]
     },
     "execution_count": 25,
     "metadata": {},
     "output_type": "execute_result"
    }
   ],
   "source": [
    "data = pd.read_csv(\"Flipkart_Scrapping.csv\")\n",
    "data.head(10)"
   ]
  },
  {
   "cell_type": "markdown",
   "id": "edf12433-f0df-4448-80a4-0c89b60e3035",
   "metadata": {},
   "source": [
    "### Checking the Data Types"
   ]
  },
  {
   "cell_type": "code",
   "execution_count": 27,
   "id": "15eb22e2-b866-4887-81ce-929fd200667b",
   "metadata": {},
   "outputs": [
    {
     "data": {
      "text/plain": [
       "Unnamed: 0       int64\n",
       "Name            object\n",
       "Price           object\n",
       "Description     object\n",
       "Discount        object\n",
       "Ratings        float64\n",
       "dtype: object"
      ]
     },
     "execution_count": 27,
     "metadata": {},
     "output_type": "execute_result"
    }
   ],
   "source": [
    "data.dtypes"
   ]
  },
  {
   "cell_type": "markdown",
   "id": "47c2bcf2-9803-47ff-9b02-85aaa650b65b",
   "metadata": {},
   "source": [
    "### Checking total number of rows and columns present in the table"
   ]
  },
  {
   "cell_type": "code",
   "execution_count": 29,
   "id": "aafdad73-6daa-4fea-874a-30955fa08c5a",
   "metadata": {},
   "outputs": [
    {
     "data": {
      "text/plain": [
       "(600, 6)"
      ]
     },
     "execution_count": 29,
     "metadata": {},
     "output_type": "execute_result"
    }
   ],
   "source": [
    "data.shape"
   ]
  },
  {
   "cell_type": "code",
   "execution_count": 31,
   "id": "78e11fd6-3708-4b71-a19f-8cfa68d5f6f9",
   "metadata": {},
   "outputs": [
    {
     "data": {
      "text/plain": [
       "<bound method DataFrame.info of      Unnamed: 0                                           Name    Price  \\\n",
       "0             0     SAMSUNG Galaxy F16 5G (Glam Green, 128 GB)  ₹14,499   \n",
       "1             1      SAMSUNG Glaxy F06 5G (Lit Violet, 128 GB)   ₹9,199   \n",
       "2             2                 REDMI A3X (Ocean Green, 64 GB)   ₹6,199   \n",
       "3             3           POCO C61 (Diamond Dust Black, 64 GB)   ₹5,699   \n",
       "4             4             Nothing Phone (3a) (Black, 128 GB)  ₹24,999   \n",
       "..          ...                                            ...      ...   \n",
       "595         595  SAMSUNG Galaxy A36 5G (Awesome White, 256 GB)  ₹32,999   \n",
       "596         596     SAMSUNG Galaxy F16 5G (Glam Green, 128 GB)  ₹11,499   \n",
       "597         597     SAMSUNG Galaxy F06 5G (Lit Violet, 128 GB)  ₹10,699   \n",
       "598         598                                Snexian Bold V1   ₹2,297   \n",
       "599         599                     POCO F6 5G (Black, 256 GB)  ₹22,999   \n",
       "\n",
       "                                           Description Discount  Ratings  \n",
       "0    8 GB RAM | 128 GB ROM16.91 cm (6.657 inch) Ful...  23% off      4.3  \n",
       "1    4 GB RAM | 128 GB ROM | Expandable Upto 1500 G...  34% off      4.3  \n",
       "2    3 GB RAM | 64 GB ROM | Expandable Upto 1 TB17....  38% off      4.1  \n",
       "3    4 GB RAM | 64 GB ROM | Expandable Upto 1 TB17....  36% off      4.2  \n",
       "4    8 GB RAM | 128 GB ROM17.2 cm (6.77 inch) Full ...  10% off      4.5  \n",
       "..                                                 ...      ...      ...  \n",
       "595  8 GB RAM | 256 GB ROM17.02 cm (6.7 inch) Full ...  15% off      4.4  \n",
       "596  4 GB RAM | 128 GB ROM16.91 cm (6.657 inch) Ful...  28% off      4.2  \n",
       "597  6 GB RAM | 128 GB ROM | Expandable Upto 1500 G...  30% off      4.1  \n",
       "598  32 MB RAM | 32 MB ROM | Expandable Upto 16 GB4...  23% off      4.2  \n",
       "599  8 GB RAM | 256 GB ROM16.94 cm (6.67 inch) Disp...  32% off      4.3  \n",
       "\n",
       "[600 rows x 6 columns]>"
      ]
     },
     "execution_count": 31,
     "metadata": {},
     "output_type": "execute_result"
    }
   ],
   "source": [
    "data.info"
   ]
  },
  {
   "cell_type": "code",
   "execution_count": 33,
   "id": "e6c7d036-78a4-4543-84a5-141bb976b8d0",
   "metadata": {},
   "outputs": [
    {
     "data": {
      "text/plain": [
       "<bound method NDFrame.describe of      Unnamed: 0                                           Name    Price  \\\n",
       "0             0     SAMSUNG Galaxy F16 5G (Glam Green, 128 GB)  ₹14,499   \n",
       "1             1      SAMSUNG Glaxy F06 5G (Lit Violet, 128 GB)   ₹9,199   \n",
       "2             2                 REDMI A3X (Ocean Green, 64 GB)   ₹6,199   \n",
       "3             3           POCO C61 (Diamond Dust Black, 64 GB)   ₹5,699   \n",
       "4             4             Nothing Phone (3a) (Black, 128 GB)  ₹24,999   \n",
       "..          ...                                            ...      ...   \n",
       "595         595  SAMSUNG Galaxy A36 5G (Awesome White, 256 GB)  ₹32,999   \n",
       "596         596     SAMSUNG Galaxy F16 5G (Glam Green, 128 GB)  ₹11,499   \n",
       "597         597     SAMSUNG Galaxy F06 5G (Lit Violet, 128 GB)  ₹10,699   \n",
       "598         598                                Snexian Bold V1   ₹2,297   \n",
       "599         599                     POCO F6 5G (Black, 256 GB)  ₹22,999   \n",
       "\n",
       "                                           Description Discount  Ratings  \n",
       "0    8 GB RAM | 128 GB ROM16.91 cm (6.657 inch) Ful...  23% off      4.3  \n",
       "1    4 GB RAM | 128 GB ROM | Expandable Upto 1500 G...  34% off      4.3  \n",
       "2    3 GB RAM | 64 GB ROM | Expandable Upto 1 TB17....  38% off      4.1  \n",
       "3    4 GB RAM | 64 GB ROM | Expandable Upto 1 TB17....  36% off      4.2  \n",
       "4    8 GB RAM | 128 GB ROM17.2 cm (6.77 inch) Full ...  10% off      4.5  \n",
       "..                                                 ...      ...      ...  \n",
       "595  8 GB RAM | 256 GB ROM17.02 cm (6.7 inch) Full ...  15% off      4.4  \n",
       "596  4 GB RAM | 128 GB ROM16.91 cm (6.657 inch) Ful...  28% off      4.2  \n",
       "597  6 GB RAM | 128 GB ROM | Expandable Upto 1500 G...  30% off      4.1  \n",
       "598  32 MB RAM | 32 MB ROM | Expandable Upto 16 GB4...  23% off      4.2  \n",
       "599  8 GB RAM | 256 GB ROM16.94 cm (6.67 inch) Disp...  32% off      4.3  \n",
       "\n",
       "[600 rows x 6 columns]>"
      ]
     },
     "execution_count": 33,
     "metadata": {},
     "output_type": "execute_result"
    }
   ],
   "source": [
    "data.describe"
   ]
  },
  {
   "cell_type": "markdown",
   "id": "84bfb138-20f4-4574-a5c3-947367613a11",
   "metadata": {},
   "source": [
    "### Cheching for the null values"
   ]
  },
  {
   "cell_type": "code",
   "execution_count": 35,
   "id": "b282ea45-de5f-430c-9ec4-4221428b249f",
   "metadata": {},
   "outputs": [
    {
     "data": {
      "text/plain": [
       "Unnamed: 0     0\n",
       "Name           0\n",
       "Price          0\n",
       "Description    0\n",
       "Discount       0\n",
       "Ratings        0\n",
       "dtype: int64"
      ]
     },
     "execution_count": 35,
     "metadata": {},
     "output_type": "execute_result"
    }
   ],
   "source": [
    "data.isnull().sum()"
   ]
  },
  {
   "cell_type": "markdown",
   "id": "f944f136-3710-4c6e-9edc-270e39077cc6",
   "metadata": {},
   "source": [
    "### Dropping the null values"
   ]
  },
  {
   "cell_type": "code",
   "execution_count": 37,
   "id": "a8da026d-1a80-47f5-81b6-87f26ea340ba",
   "metadata": {},
   "outputs": [
    {
     "data": {
      "text/html": [
       "<div>\n",
       "<style scoped>\n",
       "    .dataframe tbody tr th:only-of-type {\n",
       "        vertical-align: middle;\n",
       "    }\n",
       "\n",
       "    .dataframe tbody tr th {\n",
       "        vertical-align: top;\n",
       "    }\n",
       "\n",
       "    .dataframe thead th {\n",
       "        text-align: right;\n",
       "    }\n",
       "</style>\n",
       "<table border=\"1\" class=\"dataframe\">\n",
       "  <thead>\n",
       "    <tr style=\"text-align: right;\">\n",
       "      <th></th>\n",
       "      <th>Unnamed: 0</th>\n",
       "      <th>Name</th>\n",
       "      <th>Price</th>\n",
       "      <th>Description</th>\n",
       "      <th>Discount</th>\n",
       "      <th>Ratings</th>\n",
       "    </tr>\n",
       "  </thead>\n",
       "  <tbody>\n",
       "    <tr>\n",
       "      <th>0</th>\n",
       "      <td>0</td>\n",
       "      <td>SAMSUNG Galaxy F16 5G (Glam Green, 128 GB)</td>\n",
       "      <td>₹14,499</td>\n",
       "      <td>8 GB RAM | 128 GB ROM16.91 cm (6.657 inch) Ful...</td>\n",
       "      <td>23% off</td>\n",
       "      <td>4.3</td>\n",
       "    </tr>\n",
       "    <tr>\n",
       "      <th>1</th>\n",
       "      <td>1</td>\n",
       "      <td>SAMSUNG Glaxy F06 5G (Lit Violet, 128 GB)</td>\n",
       "      <td>₹9,199</td>\n",
       "      <td>4 GB RAM | 128 GB ROM | Expandable Upto 1500 G...</td>\n",
       "      <td>34% off</td>\n",
       "      <td>4.3</td>\n",
       "    </tr>\n",
       "    <tr>\n",
       "      <th>2</th>\n",
       "      <td>2</td>\n",
       "      <td>REDMI A3X (Ocean Green, 64 GB)</td>\n",
       "      <td>₹6,199</td>\n",
       "      <td>3 GB RAM | 64 GB ROM | Expandable Upto 1 TB17....</td>\n",
       "      <td>38% off</td>\n",
       "      <td>4.1</td>\n",
       "    </tr>\n",
       "    <tr>\n",
       "      <th>3</th>\n",
       "      <td>3</td>\n",
       "      <td>POCO C61 (Diamond Dust Black, 64 GB)</td>\n",
       "      <td>₹5,699</td>\n",
       "      <td>4 GB RAM | 64 GB ROM | Expandable Upto 1 TB17....</td>\n",
       "      <td>36% off</td>\n",
       "      <td>4.2</td>\n",
       "    </tr>\n",
       "    <tr>\n",
       "      <th>4</th>\n",
       "      <td>4</td>\n",
       "      <td>Nothing Phone (3a) (Black, 128 GB)</td>\n",
       "      <td>₹24,999</td>\n",
       "      <td>8 GB RAM | 128 GB ROM17.2 cm (6.77 inch) Full ...</td>\n",
       "      <td>10% off</td>\n",
       "      <td>4.5</td>\n",
       "    </tr>\n",
       "    <tr>\n",
       "      <th>...</th>\n",
       "      <td>...</td>\n",
       "      <td>...</td>\n",
       "      <td>...</td>\n",
       "      <td>...</td>\n",
       "      <td>...</td>\n",
       "      <td>...</td>\n",
       "    </tr>\n",
       "    <tr>\n",
       "      <th>595</th>\n",
       "      <td>595</td>\n",
       "      <td>SAMSUNG Galaxy A36 5G (Awesome White, 256 GB)</td>\n",
       "      <td>₹32,999</td>\n",
       "      <td>8 GB RAM | 256 GB ROM17.02 cm (6.7 inch) Full ...</td>\n",
       "      <td>15% off</td>\n",
       "      <td>4.4</td>\n",
       "    </tr>\n",
       "    <tr>\n",
       "      <th>596</th>\n",
       "      <td>596</td>\n",
       "      <td>SAMSUNG Galaxy F16 5G (Glam Green, 128 GB)</td>\n",
       "      <td>₹11,499</td>\n",
       "      <td>4 GB RAM | 128 GB ROM16.91 cm (6.657 inch) Ful...</td>\n",
       "      <td>28% off</td>\n",
       "      <td>4.2</td>\n",
       "    </tr>\n",
       "    <tr>\n",
       "      <th>597</th>\n",
       "      <td>597</td>\n",
       "      <td>SAMSUNG Galaxy F06 5G (Lit Violet, 128 GB)</td>\n",
       "      <td>₹10,699</td>\n",
       "      <td>6 GB RAM | 128 GB ROM | Expandable Upto 1500 G...</td>\n",
       "      <td>30% off</td>\n",
       "      <td>4.1</td>\n",
       "    </tr>\n",
       "    <tr>\n",
       "      <th>598</th>\n",
       "      <td>598</td>\n",
       "      <td>Snexian Bold V1</td>\n",
       "      <td>₹2,297</td>\n",
       "      <td>32 MB RAM | 32 MB ROM | Expandable Upto 16 GB4...</td>\n",
       "      <td>23% off</td>\n",
       "      <td>4.2</td>\n",
       "    </tr>\n",
       "    <tr>\n",
       "      <th>599</th>\n",
       "      <td>599</td>\n",
       "      <td>POCO F6 5G (Black, 256 GB)</td>\n",
       "      <td>₹22,999</td>\n",
       "      <td>8 GB RAM | 256 GB ROM16.94 cm (6.67 inch) Disp...</td>\n",
       "      <td>32% off</td>\n",
       "      <td>4.3</td>\n",
       "    </tr>\n",
       "  </tbody>\n",
       "</table>\n",
       "<p>600 rows × 6 columns</p>\n",
       "</div>"
      ],
      "text/plain": [
       "     Unnamed: 0                                           Name    Price  \\\n",
       "0             0     SAMSUNG Galaxy F16 5G (Glam Green, 128 GB)  ₹14,499   \n",
       "1             1      SAMSUNG Glaxy F06 5G (Lit Violet, 128 GB)   ₹9,199   \n",
       "2             2                 REDMI A3X (Ocean Green, 64 GB)   ₹6,199   \n",
       "3             3           POCO C61 (Diamond Dust Black, 64 GB)   ₹5,699   \n",
       "4             4             Nothing Phone (3a) (Black, 128 GB)  ₹24,999   \n",
       "..          ...                                            ...      ...   \n",
       "595         595  SAMSUNG Galaxy A36 5G (Awesome White, 256 GB)  ₹32,999   \n",
       "596         596     SAMSUNG Galaxy F16 5G (Glam Green, 128 GB)  ₹11,499   \n",
       "597         597     SAMSUNG Galaxy F06 5G (Lit Violet, 128 GB)  ₹10,699   \n",
       "598         598                                Snexian Bold V1   ₹2,297   \n",
       "599         599                     POCO F6 5G (Black, 256 GB)  ₹22,999   \n",
       "\n",
       "                                           Description Discount  Ratings  \n",
       "0    8 GB RAM | 128 GB ROM16.91 cm (6.657 inch) Ful...  23% off      4.3  \n",
       "1    4 GB RAM | 128 GB ROM | Expandable Upto 1500 G...  34% off      4.3  \n",
       "2    3 GB RAM | 64 GB ROM | Expandable Upto 1 TB17....  38% off      4.1  \n",
       "3    4 GB RAM | 64 GB ROM | Expandable Upto 1 TB17....  36% off      4.2  \n",
       "4    8 GB RAM | 128 GB ROM17.2 cm (6.77 inch) Full ...  10% off      4.5  \n",
       "..                                                 ...      ...      ...  \n",
       "595  8 GB RAM | 256 GB ROM17.02 cm (6.7 inch) Full ...  15% off      4.4  \n",
       "596  4 GB RAM | 128 GB ROM16.91 cm (6.657 inch) Ful...  28% off      4.2  \n",
       "597  6 GB RAM | 128 GB ROM | Expandable Upto 1500 G...  30% off      4.1  \n",
       "598  32 MB RAM | 32 MB ROM | Expandable Upto 16 GB4...  23% off      4.2  \n",
       "599  8 GB RAM | 256 GB ROM16.94 cm (6.67 inch) Disp...  32% off      4.3  \n",
       "\n",
       "[600 rows x 6 columns]"
      ]
     },
     "execution_count": 37,
     "metadata": {},
     "output_type": "execute_result"
    }
   ],
   "source": [
    "data.dropna()"
   ]
  },
  {
   "cell_type": "markdown",
   "id": "98a2173a-707e-4112-a6a0-672ca8d15a9b",
   "metadata": {},
   "source": [
    "### Removing rupee symbol from the price column"
   ]
  },
  {
   "cell_type": "code",
   "execution_count": 39,
   "id": "c54da54d-3fa2-4d3a-bce1-e9fc6e106661",
   "metadata": {},
   "outputs": [
    {
     "data": {
      "text/plain": [
       "0      14,499\n",
       "1       9,199\n",
       "2       6,199\n",
       "3       5,699\n",
       "4      24,999\n",
       "        ...  \n",
       "595    32,999\n",
       "596    11,499\n",
       "597    10,699\n",
       "598     2,297\n",
       "599    22,999\n",
       "Name: Price, Length: 600, dtype: object"
      ]
     },
     "execution_count": 39,
     "metadata": {},
     "output_type": "execute_result"
    }
   ],
   "source": [
    "data['Price'] = data['Price'].str.slice(1)\n",
    "data['Price']"
   ]
  },
  {
   "cell_type": "code",
   "execution_count": 41,
   "id": "75b50821-c44f-4498-a755-edb7fcf7c71e",
   "metadata": {},
   "outputs": [
    {
     "data": {
      "text/plain": [
       "Unnamed: 0       int64\n",
       "Name            object\n",
       "Price           object\n",
       "Description     object\n",
       "Discount        object\n",
       "Ratings        float64\n",
       "dtype: object"
      ]
     },
     "execution_count": 41,
     "metadata": {},
     "output_type": "execute_result"
    }
   ],
   "source": [
    "data.dtypes"
   ]
  },
  {
   "cell_type": "markdown",
   "id": "c8102705-7682-4b69-ad2f-34123b1a3fc7",
   "metadata": {},
   "source": [
    "### Replacing ',' by '' to convert price column to integer"
   ]
  },
  {
   "cell_type": "code",
   "execution_count": 43,
   "id": "b4257339-6537-4db1-8e86-f68e7e00b9cb",
   "metadata": {},
   "outputs": [],
   "source": [
    "data['Price'] = data['Price'].str.replace(\",\",'',regex=True)"
   ]
  },
  {
   "cell_type": "markdown",
   "id": "95c4075a-536a-4ac3-a420-b91718cbb7e4",
   "metadata": {},
   "source": [
    "### Changing object data type to integer"
   ]
  },
  {
   "cell_type": "code",
   "execution_count": 45,
   "id": "93bf5047-77c1-4e08-a765-c491d99b3ef7",
   "metadata": {},
   "outputs": [],
   "source": [
    "data['Price'] = data['Price'].astype(int)"
   ]
  },
  {
   "cell_type": "code",
   "execution_count": 49,
   "id": "1640662b-cf40-4276-81ea-63023d8a7160",
   "metadata": {},
   "outputs": [
    {
     "data": {
      "text/plain": [
       "Unnamed: 0       int64\n",
       "Name            object\n",
       "Price            int32\n",
       "Description     object\n",
       "Discount        object\n",
       "Ratings        float64\n",
       "dtype: object"
      ]
     },
     "execution_count": 49,
     "metadata": {},
     "output_type": "execute_result"
    }
   ],
   "source": [
    "data.dtypes"
   ]
  },
  {
   "cell_type": "markdown",
   "id": "49251d77-d110-4764-93d1-532bc6931134",
   "metadata": {},
   "source": [
    "### Creating one more Brand column using Name column"
   ]
  },
  {
   "cell_type": "code",
   "execution_count": 51,
   "id": "7d6dbe42-4a82-496d-ae96-4fa98b1ebca8",
   "metadata": {},
   "outputs": [
    {
     "data": {
      "text/html": [
       "<div>\n",
       "<style scoped>\n",
       "    .dataframe tbody tr th:only-of-type {\n",
       "        vertical-align: middle;\n",
       "    }\n",
       "\n",
       "    .dataframe tbody tr th {\n",
       "        vertical-align: top;\n",
       "    }\n",
       "\n",
       "    .dataframe thead th {\n",
       "        text-align: right;\n",
       "    }\n",
       "</style>\n",
       "<table border=\"1\" class=\"dataframe\">\n",
       "  <thead>\n",
       "    <tr style=\"text-align: right;\">\n",
       "      <th></th>\n",
       "      <th>Unnamed: 0</th>\n",
       "      <th>Name</th>\n",
       "      <th>Price</th>\n",
       "      <th>Description</th>\n",
       "      <th>Discount</th>\n",
       "      <th>Ratings</th>\n",
       "      <th>Brand</th>\n",
       "    </tr>\n",
       "  </thead>\n",
       "  <tbody>\n",
       "    <tr>\n",
       "      <th>0</th>\n",
       "      <td>0</td>\n",
       "      <td>SAMSUNG Galaxy F16 5G (Glam Green, 128 GB)</td>\n",
       "      <td>14499</td>\n",
       "      <td>8 GB RAM | 128 GB ROM16.91 cm (6.657 inch) Ful...</td>\n",
       "      <td>23% off</td>\n",
       "      <td>4.3</td>\n",
       "      <td>SAMSUNG</td>\n",
       "    </tr>\n",
       "    <tr>\n",
       "      <th>1</th>\n",
       "      <td>1</td>\n",
       "      <td>SAMSUNG Glaxy F06 5G (Lit Violet, 128 GB)</td>\n",
       "      <td>9199</td>\n",
       "      <td>4 GB RAM | 128 GB ROM | Expandable Upto 1500 G...</td>\n",
       "      <td>34% off</td>\n",
       "      <td>4.3</td>\n",
       "      <td>SAMSUNG</td>\n",
       "    </tr>\n",
       "    <tr>\n",
       "      <th>2</th>\n",
       "      <td>2</td>\n",
       "      <td>REDMI A3X (Ocean Green, 64 GB)</td>\n",
       "      <td>6199</td>\n",
       "      <td>3 GB RAM | 64 GB ROM | Expandable Upto 1 TB17....</td>\n",
       "      <td>38% off</td>\n",
       "      <td>4.1</td>\n",
       "      <td>REDMI</td>\n",
       "    </tr>\n",
       "    <tr>\n",
       "      <th>3</th>\n",
       "      <td>3</td>\n",
       "      <td>POCO C61 (Diamond Dust Black, 64 GB)</td>\n",
       "      <td>5699</td>\n",
       "      <td>4 GB RAM | 64 GB ROM | Expandable Upto 1 TB17....</td>\n",
       "      <td>36% off</td>\n",
       "      <td>4.2</td>\n",
       "      <td>POCO</td>\n",
       "    </tr>\n",
       "    <tr>\n",
       "      <th>4</th>\n",
       "      <td>4</td>\n",
       "      <td>Nothing Phone (3a) (Black, 128 GB)</td>\n",
       "      <td>24999</td>\n",
       "      <td>8 GB RAM | 128 GB ROM17.2 cm (6.77 inch) Full ...</td>\n",
       "      <td>10% off</td>\n",
       "      <td>4.5</td>\n",
       "      <td>Nothing</td>\n",
       "    </tr>\n",
       "    <tr>\n",
       "      <th>5</th>\n",
       "      <td>5</td>\n",
       "      <td>SAMSUNG Galaxy F16 5G (Vibing Blue, 128 GB)</td>\n",
       "      <td>12999</td>\n",
       "      <td>6 GB RAM | 128 GB ROM16.91 cm (6.657 inch) Ful...</td>\n",
       "      <td>25% off</td>\n",
       "      <td>4.2</td>\n",
       "      <td>SAMSUNG</td>\n",
       "    </tr>\n",
       "    <tr>\n",
       "      <th>6</th>\n",
       "      <td>6</td>\n",
       "      <td>POCO C61  - Locked with Airtel Prepaid (Diamon...</td>\n",
       "      <td>5399</td>\n",
       "      <td>4 GB RAM | 64 GB ROM | Expandable Upto 1 TB17....</td>\n",
       "      <td>40% off</td>\n",
       "      <td>4.2</td>\n",
       "      <td>POCO</td>\n",
       "    </tr>\n",
       "    <tr>\n",
       "      <th>7</th>\n",
       "      <td>7</td>\n",
       "      <td>Nokia 130 Music Dual Sim, Music Player, Wirele...</td>\n",
       "      <td>1700</td>\n",
       "      <td>4 MB RAM | 4 MB ROM6.1 cm (2.4 inch) Display0M...</td>\n",
       "      <td>22% off</td>\n",
       "      <td>4.0</td>\n",
       "      <td>Nokia</td>\n",
       "    </tr>\n",
       "    <tr>\n",
       "      <th>8</th>\n",
       "      <td>8</td>\n",
       "      <td>realme C61 (Marble Black, 64 GB)</td>\n",
       "      <td>7699</td>\n",
       "      <td>4 GB RAM | 64 GB ROM | Expandable Upto 2 TB17....</td>\n",
       "      <td>14% off</td>\n",
       "      <td>4.3</td>\n",
       "      <td>realme</td>\n",
       "    </tr>\n",
       "    <tr>\n",
       "      <th>9</th>\n",
       "      <td>9</td>\n",
       "      <td>POCO C61 (Ethereal Blue, 64 GB)</td>\n",
       "      <td>5699</td>\n",
       "      <td>4 GB RAM | 64 GB ROM | Expandable Upto 1 TB17....</td>\n",
       "      <td>36% off</td>\n",
       "      <td>4.2</td>\n",
       "      <td>POCO</td>\n",
       "    </tr>\n",
       "  </tbody>\n",
       "</table>\n",
       "</div>"
      ],
      "text/plain": [
       "   Unnamed: 0                                               Name  Price  \\\n",
       "0           0         SAMSUNG Galaxy F16 5G (Glam Green, 128 GB)  14499   \n",
       "1           1          SAMSUNG Glaxy F06 5G (Lit Violet, 128 GB)   9199   \n",
       "2           2                     REDMI A3X (Ocean Green, 64 GB)   6199   \n",
       "3           3               POCO C61 (Diamond Dust Black, 64 GB)   5699   \n",
       "4           4                 Nothing Phone (3a) (Black, 128 GB)  24999   \n",
       "5           5        SAMSUNG Galaxy F16 5G (Vibing Blue, 128 GB)  12999   \n",
       "6           6  POCO C61  - Locked with Airtel Prepaid (Diamon...   5399   \n",
       "7           7  Nokia 130 Music Dual Sim, Music Player, Wirele...   1700   \n",
       "8           8                   realme C61 (Marble Black, 64 GB)   7699   \n",
       "9           9                    POCO C61 (Ethereal Blue, 64 GB)   5699   \n",
       "\n",
       "                                         Description Discount  Ratings  \\\n",
       "0  8 GB RAM | 128 GB ROM16.91 cm (6.657 inch) Ful...  23% off      4.3   \n",
       "1  4 GB RAM | 128 GB ROM | Expandable Upto 1500 G...  34% off      4.3   \n",
       "2  3 GB RAM | 64 GB ROM | Expandable Upto 1 TB17....  38% off      4.1   \n",
       "3  4 GB RAM | 64 GB ROM | Expandable Upto 1 TB17....  36% off      4.2   \n",
       "4  8 GB RAM | 128 GB ROM17.2 cm (6.77 inch) Full ...  10% off      4.5   \n",
       "5  6 GB RAM | 128 GB ROM16.91 cm (6.657 inch) Ful...  25% off      4.2   \n",
       "6  4 GB RAM | 64 GB ROM | Expandable Upto 1 TB17....  40% off      4.2   \n",
       "7  4 MB RAM | 4 MB ROM6.1 cm (2.4 inch) Display0M...  22% off      4.0   \n",
       "8  4 GB RAM | 64 GB ROM | Expandable Upto 2 TB17....  14% off      4.3   \n",
       "9  4 GB RAM | 64 GB ROM | Expandable Upto 1 TB17....  36% off      4.2   \n",
       "\n",
       "     Brand  \n",
       "0  SAMSUNG  \n",
       "1  SAMSUNG  \n",
       "2    REDMI  \n",
       "3     POCO  \n",
       "4  Nothing  \n",
       "5  SAMSUNG  \n",
       "6     POCO  \n",
       "7    Nokia  \n",
       "8   realme  \n",
       "9     POCO  "
      ]
     },
     "execution_count": 51,
     "metadata": {},
     "output_type": "execute_result"
    }
   ],
   "source": [
    "data['Brand'] = data['Name'].str.split().str[0]\n",
    "data.head(10)"
   ]
  },
  {
   "cell_type": "code",
   "execution_count": 55,
   "id": "1328ab0e-6bfb-4d03-a4ef-9e002eaa5333",
   "metadata": {},
   "outputs": [
    {
     "data": {
      "text/plain": [
       "(600, 7)"
      ]
     },
     "execution_count": 55,
     "metadata": {},
     "output_type": "execute_result"
    }
   ],
   "source": [
    "data.shape"
   ]
  },
  {
   "cell_type": "markdown",
   "id": "6118240e-026e-4b69-a1d1-e65cc9987605",
   "metadata": {},
   "source": [
    "### Extracting data to a csv file"
   ]
  },
  {
   "cell_type": "code",
   "execution_count": 57,
   "id": "5ec7de78-8e64-4b3c-94c7-ec26787fa0a9",
   "metadata": {},
   "outputs": [],
   "source": [
    "data.to_csv(\"Cleaned_Flipkart_data.csv\")"
   ]
  },
  {
   "cell_type": "code",
   "execution_count": 93,
   "id": "a0d53b03-806e-466f-bd85-0754a1a9f392",
   "metadata": {},
   "outputs": [],
   "source": [
    "### Extracting data to a csv file to particular location"
   ]
  },
  {
   "cell_type": "code",
   "execution_count": 59,
   "id": "5246e469-f1b1-4cb1-93cb-a4c5877f5e23",
   "metadata": {},
   "outputs": [],
   "source": [
    "data.to_csv(\"C:/Users/vijay/OneDrive/Documents/Carrer prep plan/Flipkart Project/Cleaned_Flipkart_data.csv\")"
   ]
  },
  {
   "cell_type": "code",
   "execution_count": 69,
   "id": "625d4b34-230a-4a8a-abbf-5ccba14cef51",
   "metadata": {},
   "outputs": [
    {
     "data": {
      "text/html": [
       "<div>\n",
       "<style scoped>\n",
       "    .dataframe tbody tr th:only-of-type {\n",
       "        vertical-align: middle;\n",
       "    }\n",
       "\n",
       "    .dataframe tbody tr th {\n",
       "        vertical-align: top;\n",
       "    }\n",
       "\n",
       "    .dataframe thead th {\n",
       "        text-align: right;\n",
       "    }\n",
       "</style>\n",
       "<table border=\"1\" class=\"dataframe\">\n",
       "  <thead>\n",
       "    <tr style=\"text-align: right;\">\n",
       "      <th></th>\n",
       "      <th>Unnamed: 0</th>\n",
       "      <th>Name</th>\n",
       "      <th>Price</th>\n",
       "      <th>Description</th>\n",
       "      <th>Discount</th>\n",
       "      <th>Ratings</th>\n",
       "      <th>Brand</th>\n",
       "    </tr>\n",
       "  </thead>\n",
       "  <tbody>\n",
       "    <tr>\n",
       "      <th>0</th>\n",
       "      <td>0</td>\n",
       "      <td>SAMSUNG Galaxy F16 5G</td>\n",
       "      <td>14499</td>\n",
       "      <td>8 GB RAM | 128 GB ROM16.91 cm (6.657 inch) Ful...</td>\n",
       "      <td>23% off</td>\n",
       "      <td>4.3</td>\n",
       "      <td>SAMSUNG</td>\n",
       "    </tr>\n",
       "    <tr>\n",
       "      <th>1</th>\n",
       "      <td>1</td>\n",
       "      <td>SAMSUNG Glaxy F06 5G</td>\n",
       "      <td>9199</td>\n",
       "      <td>4 GB RAM | 128 GB ROM | Expandable Upto 1500 G...</td>\n",
       "      <td>34% off</td>\n",
       "      <td>4.3</td>\n",
       "      <td>SAMSUNG</td>\n",
       "    </tr>\n",
       "    <tr>\n",
       "      <th>2</th>\n",
       "      <td>2</td>\n",
       "      <td>REDMI A3X</td>\n",
       "      <td>6199</td>\n",
       "      <td>3 GB RAM | 64 GB ROM | Expandable Upto 1 TB17....</td>\n",
       "      <td>38% off</td>\n",
       "      <td>4.1</td>\n",
       "      <td>REDMI</td>\n",
       "    </tr>\n",
       "    <tr>\n",
       "      <th>3</th>\n",
       "      <td>3</td>\n",
       "      <td>POCO C61</td>\n",
       "      <td>5699</td>\n",
       "      <td>4 GB RAM | 64 GB ROM | Expandable Upto 1 TB17....</td>\n",
       "      <td>36% off</td>\n",
       "      <td>4.2</td>\n",
       "      <td>POCO</td>\n",
       "    </tr>\n",
       "    <tr>\n",
       "      <th>4</th>\n",
       "      <td>4</td>\n",
       "      <td>Nothing Phone</td>\n",
       "      <td>24999</td>\n",
       "      <td>8 GB RAM | 128 GB ROM17.2 cm (6.77 inch) Full ...</td>\n",
       "      <td>10% off</td>\n",
       "      <td>4.5</td>\n",
       "      <td>Nothing</td>\n",
       "    </tr>\n",
       "    <tr>\n",
       "      <th>...</th>\n",
       "      <td>...</td>\n",
       "      <td>...</td>\n",
       "      <td>...</td>\n",
       "      <td>...</td>\n",
       "      <td>...</td>\n",
       "      <td>...</td>\n",
       "      <td>...</td>\n",
       "    </tr>\n",
       "    <tr>\n",
       "      <th>595</th>\n",
       "      <td>595</td>\n",
       "      <td>SAMSUNG Galaxy A36 5G</td>\n",
       "      <td>32999</td>\n",
       "      <td>8 GB RAM | 256 GB ROM17.02 cm (6.7 inch) Full ...</td>\n",
       "      <td>15% off</td>\n",
       "      <td>4.4</td>\n",
       "      <td>SAMSUNG</td>\n",
       "    </tr>\n",
       "    <tr>\n",
       "      <th>596</th>\n",
       "      <td>596</td>\n",
       "      <td>SAMSUNG Galaxy F16 5G</td>\n",
       "      <td>11499</td>\n",
       "      <td>4 GB RAM | 128 GB ROM16.91 cm (6.657 inch) Ful...</td>\n",
       "      <td>28% off</td>\n",
       "      <td>4.2</td>\n",
       "      <td>SAMSUNG</td>\n",
       "    </tr>\n",
       "    <tr>\n",
       "      <th>597</th>\n",
       "      <td>597</td>\n",
       "      <td>SAMSUNG Galaxy F06 5G</td>\n",
       "      <td>10699</td>\n",
       "      <td>6 GB RAM | 128 GB ROM | Expandable Upto 1500 G...</td>\n",
       "      <td>30% off</td>\n",
       "      <td>4.1</td>\n",
       "      <td>SAMSUNG</td>\n",
       "    </tr>\n",
       "    <tr>\n",
       "      <th>598</th>\n",
       "      <td>598</td>\n",
       "      <td>Snexian Bold V1</td>\n",
       "      <td>2297</td>\n",
       "      <td>32 MB RAM | 32 MB ROM | Expandable Upto 16 GB4...</td>\n",
       "      <td>23% off</td>\n",
       "      <td>4.2</td>\n",
       "      <td>Snexian</td>\n",
       "    </tr>\n",
       "    <tr>\n",
       "      <th>599</th>\n",
       "      <td>599</td>\n",
       "      <td>POCO F6 5G</td>\n",
       "      <td>22999</td>\n",
       "      <td>8 GB RAM | 256 GB ROM16.94 cm (6.67 inch) Disp...</td>\n",
       "      <td>32% off</td>\n",
       "      <td>4.3</td>\n",
       "      <td>POCO</td>\n",
       "    </tr>\n",
       "  </tbody>\n",
       "</table>\n",
       "<p>600 rows × 7 columns</p>\n",
       "</div>"
      ],
      "text/plain": [
       "     Unnamed: 0                   Name  Price  \\\n",
       "0             0  SAMSUNG Galaxy F16 5G  14499   \n",
       "1             1   SAMSUNG Glaxy F06 5G   9199   \n",
       "2             2              REDMI A3X   6199   \n",
       "3             3               POCO C61   5699   \n",
       "4             4          Nothing Phone  24999   \n",
       "..          ...                    ...    ...   \n",
       "595         595  SAMSUNG Galaxy A36 5G  32999   \n",
       "596         596  SAMSUNG Galaxy F16 5G  11499   \n",
       "597         597  SAMSUNG Galaxy F06 5G  10699   \n",
       "598         598        Snexian Bold V1   2297   \n",
       "599         599             POCO F6 5G  22999   \n",
       "\n",
       "                                           Description Discount  Ratings  \\\n",
       "0    8 GB RAM | 128 GB ROM16.91 cm (6.657 inch) Ful...  23% off      4.3   \n",
       "1    4 GB RAM | 128 GB ROM | Expandable Upto 1500 G...  34% off      4.3   \n",
       "2    3 GB RAM | 64 GB ROM | Expandable Upto 1 TB17....  38% off      4.1   \n",
       "3    4 GB RAM | 64 GB ROM | Expandable Upto 1 TB17....  36% off      4.2   \n",
       "4    8 GB RAM | 128 GB ROM17.2 cm (6.77 inch) Full ...  10% off      4.5   \n",
       "..                                                 ...      ...      ...   \n",
       "595  8 GB RAM | 256 GB ROM17.02 cm (6.7 inch) Full ...  15% off      4.4   \n",
       "596  4 GB RAM | 128 GB ROM16.91 cm (6.657 inch) Ful...  28% off      4.2   \n",
       "597  6 GB RAM | 128 GB ROM | Expandable Upto 1500 G...  30% off      4.1   \n",
       "598  32 MB RAM | 32 MB ROM | Expandable Upto 16 GB4...  23% off      4.2   \n",
       "599  8 GB RAM | 256 GB ROM16.94 cm (6.67 inch) Disp...  32% off      4.3   \n",
       "\n",
       "       Brand  \n",
       "0    SAMSUNG  \n",
       "1    SAMSUNG  \n",
       "2      REDMI  \n",
       "3       POCO  \n",
       "4    Nothing  \n",
       "..       ...  \n",
       "595  SAMSUNG  \n",
       "596  SAMSUNG  \n",
       "597  SAMSUNG  \n",
       "598  Snexian  \n",
       "599     POCO  \n",
       "\n",
       "[600 rows x 7 columns]"
      ]
     },
     "execution_count": 69,
     "metadata": {},
     "output_type": "execute_result"
    }
   ],
   "source": [
    "data"
   ]
  },
  {
   "cell_type": "code",
   "execution_count": 75,
   "id": "21e3b61b-414b-46ba-854a-a3064c57694e",
   "metadata": {},
   "outputs": [],
   "source": [
    "data.to_csv(\"C:/Users/vijay/OneDrive/Documents/Carrer prep plan/Flipkart Project/Cleaned_Flipkart_Data.csv\")"
   ]
  },
  {
   "cell_type": "code",
   "execution_count": 77,
   "id": "bb44ea74-2abf-4028-934a-e40da618aa70",
   "metadata": {},
   "outputs": [],
   "source": [
    "data.to_csv(\"Cleaned_Flipkart_Data.csv\")"
   ]
  }
 ],
 "metadata": {
  "kernelspec": {
   "display_name": "Python 3 (ipykernel)",
   "language": "python",
   "name": "python3"
  },
  "language_info": {
   "codemirror_mode": {
    "name": "ipython",
    "version": 3
   },
   "file_extension": ".py",
   "mimetype": "text/x-python",
   "name": "python",
   "nbconvert_exporter": "python",
   "pygments_lexer": "ipython3",
   "version": "3.11.7"
  }
 },
 "nbformat": 4,
 "nbformat_minor": 5
}
